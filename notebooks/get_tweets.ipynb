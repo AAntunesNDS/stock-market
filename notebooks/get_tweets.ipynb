{
 "metadata": {
  "language_info": {
   "codemirror_mode": {
    "name": "ipython",
    "version": 3
   },
   "file_extension": ".py",
   "mimetype": "text/x-python",
   "name": "python",
   "nbconvert_exporter": "python",
   "pygments_lexer": "ipython3",
   "version": "3.6.9-final"
  },
  "orig_nbformat": 2,
  "kernelspec": {
   "name": "stock-market",
   "display_name": "stock-market",
   "language": "python"
  }
 },
 "nbformat": 4,
 "nbformat_minor": 2,
 "cells": [
  {
   "cell_type": "code",
   "execution_count": 1,
   "metadata": {},
   "outputs": [],
   "source": [
    "import os\n",
    "import tweepy as tw\n",
    "import pandas as pd"
   ]
  },
  {
   "cell_type": "code",
   "execution_count": 3,
   "metadata": {},
   "outputs": [],
   "source": [
    "consumer_key=os.environ['consumer_key'] \n",
    "consumer_secret=os.environ['consumer_secret']\n",
    "access_token=os.environ['access_token']\n",
    "access_token_secret=os.environ['access_token_secret']"
   ]
  },
  {
   "cell_type": "code",
   "execution_count": 6,
   "metadata": {},
   "outputs": [],
   "source": [
    "auth = tw.OAuthHandler(consumer_key, consumer_secret)\n",
    "auth.set_access_token(access_token, access_token_secret)\n",
    "api = tw.API(auth, wait_on_rate_limit=True)"
   ]
  },
  {
   "cell_type": "code",
   "execution_count": 9,
   "metadata": {},
   "outputs": [],
   "source": [
    "search_words = \"Bitcoin\"\n",
    "date_since = \"2020-12-26\""
   ]
  },
  {
   "cell_type": "code",
   "execution_count": 11,
   "metadata": {},
   "outputs": [
    {
     "output_type": "stream",
     "name": "stdout",
     "text": [
      "RT @zerohedge: Ethereum Surges As Bitcoin Tops $28k and Crashes https://t.co/1cgQZNJkTp\n@RyanObee @PeterSchiff Its ok he doesn’t know Elon will be allowing us to buy into neurolink immortality using bitc… https://t.co/LYW6pSw7Ws\nRT @BTCTN: “#Bitcoin market capitalization is now over $510 billion. Which puts it just under Warren Buffett’s Berkshire Hathaway, the 10th…\nRT @JumperWave: When #Bitcoin hits $100k I will give away $10k, that’s a promise. \n\nJust like, retweet and follow.\nRT @cz_binance: #bitcoin will be the biggest FOMO experience in human history in the next 10 years!\n\nDon't be last!\nOne man’s inflation is another man’s appreciation. Bitcoin puts you on the right side of the equation, regardless of your net worth.\nBTC Latest Block Info: Block 663218 holds 2,990 transactions for a total of 21,085.48604 Bitcoin including Block Re… https://t.co/vhJH6Wt3Ax\nRT @masterjamayuda: $30 in the next 24hrs to 1 person that retweets this and tweet this text on ur timeline 👇  \n\nToday’s pump on #Bitcoin w…\nBuy your first bitcoin here: https://t.co/HAGJFQodlU 📈🚀\nIf you invested $10,000 in bitcoin 3 seconds ago, you’d have $2,372,859.51 right now.\n\n#btc #bitcoinworld #investing\n"
     ]
    }
   ],
   "source": [
    "# Collect tweets\n",
    "tweets = tw.Cursor(api.search,\n",
    "              q=search_words,\n",
    "              lang=\"en\",\n",
    "              since=date_since).items(10)\n",
    "# Iterate and print tweets\n",
    "for tweet in tweets:\n",
    "    print(tweet.text)\n",
    "    "
   ]
  }
 ]
}