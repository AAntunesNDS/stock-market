{
 "cells": [
  {
   "cell_type": "code",
   "execution_count": 1,
   "metadata": {},
   "outputs": [],
   "source": [
    "import sys\n",
    "sys.path.append('../')\n",
    "\n",
    "import pandas as pd\n",
    "import json\n",
    "\n",
    "import stock_service as sv\n",
    "import load_transform as lf "
   ]
  },
  {
   "cell_type": "code",
   "execution_count": 2,
   "metadata": {},
   "outputs": [
    {
     "data": {
      "text/plain": [
       "dict_keys(['meta_data', 'data_for_all_days'])"
      ]
     },
     "execution_count": 2,
     "metadata": {},
     "output_type": "execute_result"
    }
   ],
   "source": [
    "sv.run().keys()"
   ]
  },
  {
   "cell_type": "code",
   "execution_count": 3,
   "metadata": {},
   "outputs": [],
   "source": [
    "data_for_all_days = pd.read_json(json\n",
    "    .dumps(sv\n",
    "    .run()['data_for_all_days'], ensure_ascii=False))\\\n",
    "    .T"
   ]
  },
  {
   "cell_type": "code",
   "execution_count": 4,
   "metadata": {},
   "outputs": [],
   "source": [
    "CYN_cols = [col for col in data_for_all_days.columns if 'CNY' in col]\n",
    "USD_cols = [col for col in data_for_all_days.columns if 'USD' in col]"
   ]
  },
  {
   "cell_type": "code",
   "execution_count": 5,
   "metadata": {},
   "outputs": [
    {
     "data": {
      "text/html": [
       "<div>\n",
       "<style scoped>\n",
       "    .dataframe tbody tr th:only-of-type {\n",
       "        vertical-align: middle;\n",
       "    }\n",
       "\n",
       "    .dataframe tbody tr th {\n",
       "        vertical-align: top;\n",
       "    }\n",
       "\n",
       "    .dataframe thead th {\n",
       "        text-align: right;\n",
       "    }\n",
       "</style>\n",
       "<table border=\"1\" class=\"dataframe\">\n",
       "  <thead>\n",
       "    <tr style=\"text-align: right;\">\n",
       "      <th></th>\n",
       "      <th>1b. open (USD)</th>\n",
       "      <th>2b. high (USD)</th>\n",
       "      <th>3b. low (USD)</th>\n",
       "      <th>4b. close (USD)</th>\n",
       "      <th>6. market cap (USD)</th>\n",
       "    </tr>\n",
       "  </thead>\n",
       "  <tbody>\n",
       "    <tr>\n",
       "      <th>2020-07-12</th>\n",
       "      <td>9234.02</td>\n",
       "      <td>9268.52</td>\n",
       "      <td>9230.61</td>\n",
       "      <td>9259.99</td>\n",
       "      <td>688.296306</td>\n",
       "    </tr>\n",
       "    <tr>\n",
       "      <th>2020-07-11</th>\n",
       "      <td>9288.34</td>\n",
       "      <td>9299.28</td>\n",
       "      <td>9178.25</td>\n",
       "      <td>9234.03</td>\n",
       "      <td>22561.366000</td>\n",
       "    </tr>\n",
       "    <tr>\n",
       "      <th>2020-07-10</th>\n",
       "      <td>9232.42</td>\n",
       "      <td>9317.48</td>\n",
       "      <td>9125.00</td>\n",
       "      <td>9288.34</td>\n",
       "      <td>38295.494006</td>\n",
       "    </tr>\n",
       "    <tr>\n",
       "      <th>2020-07-09</th>\n",
       "      <td>9436.06</td>\n",
       "      <td>9440.79</td>\n",
       "      <td>9160.00</td>\n",
       "      <td>9232.43</td>\n",
       "      <td>48044.450645</td>\n",
       "    </tr>\n",
       "    <tr>\n",
       "      <th>2020-07-08</th>\n",
       "      <td>9257.40</td>\n",
       "      <td>9470.00</td>\n",
       "      <td>9231.00</td>\n",
       "      <td>9436.06</td>\n",
       "      <td>56140.517781</td>\n",
       "    </tr>\n",
       "  </tbody>\n",
       "</table>\n",
       "</div>"
      ],
      "text/plain": [
       "            1b. open (USD)  2b. high (USD)  3b. low (USD)  4b. close (USD)  \\\n",
       "2020-07-12         9234.02         9268.52        9230.61          9259.99   \n",
       "2020-07-11         9288.34         9299.28        9178.25          9234.03   \n",
       "2020-07-10         9232.42         9317.48        9125.00          9288.34   \n",
       "2020-07-09         9436.06         9440.79        9160.00          9232.43   \n",
       "2020-07-08         9257.40         9470.00        9231.00          9436.06   \n",
       "\n",
       "            6. market cap (USD)  \n",
       "2020-07-12           688.296306  \n",
       "2020-07-11         22561.366000  \n",
       "2020-07-10         38295.494006  \n",
       "2020-07-09         48044.450645  \n",
       "2020-07-08         56140.517781  "
      ]
     },
     "execution_count": 5,
     "metadata": {},
     "output_type": "execute_result"
    }
   ],
   "source": [
    "df = data_for_all_days[USD_cols]\n",
    "df.head()"
   ]
  },
  {
   "cell_type": "code",
   "execution_count": 6,
   "metadata": {},
   "outputs": [
    {
     "data": {
      "text/plain": [
       "['1b. open (USD)',\n",
       " '2b. high (USD)',\n",
       " '3b. low (USD)',\n",
       " '4b. close (USD)',\n",
       " '6. market cap (USD)']"
      ]
     },
     "execution_count": 6,
     "metadata": {},
     "output_type": "execute_result"
    }
   ],
   "source": [
    "df.columns.tolist() "
   ]
  },
  {
   "cell_type": "code",
   "execution_count": 7,
   "metadata": {},
   "outputs": [
    {
     "data": {
      "text/html": [
       "<div>\n",
       "<style scoped>\n",
       "    .dataframe tbody tr th:only-of-type {\n",
       "        vertical-align: middle;\n",
       "    }\n",
       "\n",
       "    .dataframe tbody tr th {\n",
       "        vertical-align: top;\n",
       "    }\n",
       "\n",
       "    .dataframe thead th {\n",
       "        text-align: right;\n",
       "    }\n",
       "</style>\n",
       "<table border=\"1\" class=\"dataframe\">\n",
       "  <thead>\n",
       "    <tr style=\"text-align: right;\">\n",
       "      <th></th>\n",
       "      <th>1b. open (USD)</th>\n",
       "      <th>2b. high (USD)</th>\n",
       "      <th>3b. low (USD)</th>\n",
       "      <th>4b. close (USD)</th>\n",
       "      <th>6. market cap (USD)</th>\n",
       "    </tr>\n",
       "  </thead>\n",
       "  <tbody>\n",
       "    <tr>\n",
       "      <th>2020-07-12</th>\n",
       "      <td>9234.02</td>\n",
       "      <td>9268.52</td>\n",
       "      <td>9230.61</td>\n",
       "      <td>9259.99</td>\n",
       "      <td>688.296306</td>\n",
       "    </tr>\n",
       "    <tr>\n",
       "      <th>2020-07-11</th>\n",
       "      <td>9288.34</td>\n",
       "      <td>9299.28</td>\n",
       "      <td>9178.25</td>\n",
       "      <td>9234.03</td>\n",
       "      <td>22561.366000</td>\n",
       "    </tr>\n",
       "    <tr>\n",
       "      <th>2020-07-10</th>\n",
       "      <td>9232.42</td>\n",
       "      <td>9317.48</td>\n",
       "      <td>9125.00</td>\n",
       "      <td>9288.34</td>\n",
       "      <td>38295.494006</td>\n",
       "    </tr>\n",
       "    <tr>\n",
       "      <th>2020-07-09</th>\n",
       "      <td>9436.06</td>\n",
       "      <td>9440.79</td>\n",
       "      <td>9160.00</td>\n",
       "      <td>9232.43</td>\n",
       "      <td>48044.450645</td>\n",
       "    </tr>\n",
       "    <tr>\n",
       "      <th>2020-07-08</th>\n",
       "      <td>9257.40</td>\n",
       "      <td>9470.00</td>\n",
       "      <td>9231.00</td>\n",
       "      <td>9436.06</td>\n",
       "      <td>56140.517781</td>\n",
       "    </tr>\n",
       "  </tbody>\n",
       "</table>\n",
       "</div>"
      ],
      "text/plain": [
       "            1b. open (USD)  2b. high (USD)  3b. low (USD)  4b. close (USD)  \\\n",
       "2020-07-12         9234.02         9268.52        9230.61          9259.99   \n",
       "2020-07-11         9288.34         9299.28        9178.25          9234.03   \n",
       "2020-07-10         9232.42         9317.48        9125.00          9288.34   \n",
       "2020-07-09         9436.06         9440.79        9160.00          9232.43   \n",
       "2020-07-08         9257.40         9470.00        9231.00          9436.06   \n",
       "\n",
       "            6. market cap (USD)  \n",
       "2020-07-12           688.296306  \n",
       "2020-07-11         22561.366000  \n",
       "2020-07-10         38295.494006  \n",
       "2020-07-09         48044.450645  \n",
       "2020-07-08         56140.517781  "
      ]
     },
     "execution_count": 7,
     "metadata": {},
     "output_type": "execute_result"
    }
   ],
   "source": [
    "df.head()"
   ]
  },
  {
   "cell_type": "code",
   "execution_count": 8,
   "metadata": {},
   "outputs": [
    {
     "name": "stderr",
     "output_type": "stream",
     "text": [
      "/home/aantunesnds/.local/share/virtualenvs/stock-market-6rWeV0cO/lib/python3.6/site-packages/pandas/core/frame.py:3997: SettingWithCopyWarning: \n",
      "A value is trying to be set on a copy of a slice from a DataFrame\n",
      "\n",
      "See the caveats in the documentation: https://pandas.pydata.org/pandas-docs/stable/user_guide/indexing.html#returning-a-view-versus-a-copy\n",
      "  errors=errors,\n",
      "/home/aantunesnds/.local/share/virtualenvs/stock-market-6rWeV0cO/lib/python3.6/site-packages/pandas/core/frame.py:4133: SettingWithCopyWarning: \n",
      "A value is trying to be set on a copy of a slice from a DataFrame\n",
      "\n",
      "See the caveats in the documentation: https://pandas.pydata.org/pandas-docs/stable/user_guide/indexing.html#returning-a-view-versus-a-copy\n",
      "  errors=errors,\n"
     ]
    },
    {
     "data": {
      "text/html": [
       "<div>\n",
       "<style scoped>\n",
       "    .dataframe tbody tr th:only-of-type {\n",
       "        vertical-align: middle;\n",
       "    }\n",
       "\n",
       "    .dataframe tbody tr th {\n",
       "        vertical-align: top;\n",
       "    }\n",
       "\n",
       "    .dataframe thead th {\n",
       "        text-align: right;\n",
       "    }\n",
       "</style>\n",
       "<table border=\"1\" class=\"dataframe\">\n",
       "  <thead>\n",
       "    <tr style=\"text-align: right;\">\n",
       "      <th></th>\n",
       "      <th>open</th>\n",
       "      <th>high</th>\n",
       "      <th>low</th>\n",
       "      <th>close</th>\n",
       "    </tr>\n",
       "  </thead>\n",
       "  <tbody>\n",
       "    <tr>\n",
       "      <th>2020-07-12</th>\n",
       "      <td>9234.02</td>\n",
       "      <td>9268.52</td>\n",
       "      <td>9230.61</td>\n",
       "      <td>9259.99</td>\n",
       "    </tr>\n",
       "    <tr>\n",
       "      <th>2020-07-11</th>\n",
       "      <td>9288.34</td>\n",
       "      <td>9299.28</td>\n",
       "      <td>9178.25</td>\n",
       "      <td>9234.03</td>\n",
       "    </tr>\n",
       "    <tr>\n",
       "      <th>2020-07-10</th>\n",
       "      <td>9232.42</td>\n",
       "      <td>9317.48</td>\n",
       "      <td>9125.00</td>\n",
       "      <td>9288.34</td>\n",
       "    </tr>\n",
       "    <tr>\n",
       "      <th>2020-07-09</th>\n",
       "      <td>9436.06</td>\n",
       "      <td>9440.79</td>\n",
       "      <td>9160.00</td>\n",
       "      <td>9232.43</td>\n",
       "    </tr>\n",
       "    <tr>\n",
       "      <th>2020-07-08</th>\n",
       "      <td>9257.40</td>\n",
       "      <td>9470.00</td>\n",
       "      <td>9231.00</td>\n",
       "      <td>9436.06</td>\n",
       "    </tr>\n",
       "    <tr>\n",
       "      <th>...</th>\n",
       "      <td>...</td>\n",
       "      <td>...</td>\n",
       "      <td>...</td>\n",
       "      <td>...</td>\n",
       "    </tr>\n",
       "    <tr>\n",
       "      <th>2017-10-21</th>\n",
       "      <td>6013.72</td>\n",
       "      <td>6171.00</td>\n",
       "      <td>5850.03</td>\n",
       "      <td>6024.97</td>\n",
       "    </tr>\n",
       "    <tr>\n",
       "      <th>2017-10-20</th>\n",
       "      <td>5683.31</td>\n",
       "      <td>6110.00</td>\n",
       "      <td>5600.00</td>\n",
       "      <td>6010.01</td>\n",
       "    </tr>\n",
       "    <tr>\n",
       "      <th>2017-10-19</th>\n",
       "      <td>5513.00</td>\n",
       "      <td>5710.00</td>\n",
       "      <td>5490.26</td>\n",
       "      <td>5683.90</td>\n",
       "    </tr>\n",
       "    <tr>\n",
       "      <th>2017-10-18</th>\n",
       "      <td>5595.00</td>\n",
       "      <td>5596.00</td>\n",
       "      <td>5037.95</td>\n",
       "      <td>5512.06</td>\n",
       "    </tr>\n",
       "    <tr>\n",
       "      <th>2017-10-17</th>\n",
       "      <td>5760.00</td>\n",
       "      <td>5774.98</td>\n",
       "      <td>5508.63</td>\n",
       "      <td>5595.00</td>\n",
       "    </tr>\n",
       "  </tbody>\n",
       "</table>\n",
       "<p>1000 rows × 4 columns</p>\n",
       "</div>"
      ],
      "text/plain": [
       "               open     high      low    close\n",
       "2020-07-12  9234.02  9268.52  9230.61  9259.99\n",
       "2020-07-11  9288.34  9299.28  9178.25  9234.03\n",
       "2020-07-10  9232.42  9317.48  9125.00  9288.34\n",
       "2020-07-09  9436.06  9440.79  9160.00  9232.43\n",
       "2020-07-08  9257.40  9470.00  9231.00  9436.06\n",
       "...             ...      ...      ...      ...\n",
       "2017-10-21  6013.72  6171.00  5850.03  6024.97\n",
       "2017-10-20  5683.31  6110.00  5600.00  6010.01\n",
       "2017-10-19  5513.00  5710.00  5490.26  5683.90\n",
       "2017-10-18  5595.00  5596.00  5037.95  5512.06\n",
       "2017-10-17  5760.00  5774.98  5508.63  5595.00\n",
       "\n",
       "[1000 rows x 4 columns]"
      ]
     },
     "execution_count": 8,
     "metadata": {},
     "output_type": "execute_result"
    }
   ],
   "source": [
    "lf.transform_in_fourcolumns(df)"
   ]
  },
  {
   "cell_type": "code",
   "execution_count": 9,
   "metadata": {},
   "outputs": [
    {
     "name": "stderr",
     "output_type": "stream",
     "text": [
      "/home/aantunesnds/.local/share/virtualenvs/stock-market-6rWeV0cO/lib/python3.6/site-packages/mpl_finance.py:22: DeprecationWarning: \n",
      "\n",
      "  =================================================================\n",
      "\n",
      "   WARNING: `mpl_finance` is deprecated:\n",
      "\n",
      "    Please use `mplfinance` instead (no hyphen, no underscore).\n",
      "\n",
      "    To install: `pip install --upgrade mplfinance` \n",
      "\n",
      "   For more information, see: https://pypi.org/project/mplfinance/\n",
      "\n",
      "  =================================================================\n",
      "\n",
      "  category=DeprecationWarning)\n"
     ]
    },
    {
     "data": {
      "image/png": "[encoded data removed]",
      "text/plain": [
       "<Figure size 864x720 with 1 Axes>"
      ]
     },
     "metadata": {},
     "output_type": "display_data"
    }
   ],
   "source": [
    "\n",
    "import matplotlib.pyplot as plt\n",
    "plt.style.use('ggplot')\n",
    "from mpl_finance import candlestick_ohlc\n",
    "import matplotlib.dates as mpl_dates\n",
    " \n",
    "def plot_candle(df):\n",
    "    \n",
    "    def tranform_data_to_candle(df):\n",
    "        df['date'] = df.index\n",
    "        df['date'] = df['date'].apply(mpl_dates.date2num)\n",
    "        df = df.astype(float)\n",
    "        df = df[['date', 'open', 'high', 'low', 'close']]\n",
    "        return df\n",
    "    \n",
    "    df = tranform_data_to_candle(df)\n",
    "    # Creating Subplots\n",
    "    fig, ax = plt.subplots(figsize=(12,10))\n",
    "\n",
    "    candlestick_ohlc(ax, \n",
    "                     df.values, \n",
    "                     width=0.6, \n",
    "                     colorup='green', \n",
    "                     colordown='red', \n",
    "                     alpha=0.8)\n",
    "\n",
    "    # Setting labels & titles\n",
    "    ax.set_xlabel('Data')\n",
    "    ax.set_ylabel('Valor em dolar')\n",
    "\n",
    "    # Formatting Date\n",
    "    date_format = mpl_dates.DateFormatter('%d-%m-%Y')\n",
    "    ax.xaxis.set_major_formatter(date_format)\n",
    "    fig.autofmt_xdate()\n",
    "\n",
    "    fig.tight_layout()\n",
    "\n",
    "    return plt.show()\n",
    "\n",
    "df = lf.load_data_btc(sv.run()['data_for_all_days'], 'USD')\n",
    "df = lf.transform_in_fourcolumns(df)\n",
    "plot_candle(df)"
   ]
  },
  {
   "cell_type": "code",
   "execution_count": null,
   "metadata": {},
   "outputs": [],
   "source": [
    "\n"
   ]
  }
 ],
 "metadata": {
  "kernelspec": {
   "display_name": "stock-market",
   "language": "python",
   "name": "stock-market"
  },
  "language_info": {
   "codemirror_mode": {
    "name": "ipython",
    "version": 3
   },
   "file_extension": ".py",
   "mimetype": "text/x-python",
   "name": "python",
   "nbconvert_exporter": "python",
   "pygments_lexer": "ipython3",
   "version": "3.6.9"
  }
 },
 "nbformat": 4,
 "nbformat_minor": 4
}
